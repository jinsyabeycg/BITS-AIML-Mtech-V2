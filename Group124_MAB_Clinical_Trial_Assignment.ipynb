{
  "nbformat": 4,
  "nbformat_minor": 0,
  "metadata": {
    "colab": {
      "provenance": [],
      "include_colab_link": true
    },
    "kernelspec": {
      "name": "python3",
      "display_name": "Python 3"
    },
    "language_info": {
      "name": "python"
    }
  },
  "cells": [
    {
      "cell_type": "markdown",
      "metadata": {
        "id": "view-in-github",
        "colab_type": "text"
      },
      "source": [
        "<a href=\"https://colab.research.google.com/github/jinsyabeycg/BITS-AIML-Mtech-V2/blob/master/Group124_MAB_Clinical_Trial_Assignment.ipynb\" target=\"_parent\"><img src=\"https://colab.research.google.com/assets/colab-badge.svg\" alt=\"Open In Colab\"/></a>"
      ]
    },
    {
      "cell_type": "markdown",
      "source": [
        "### `---------------Mandatory Information to fill------------`"
      ],
      "metadata": {
        "id": "j7jO_ata_tGB"
      }
    },
    {
      "cell_type": "markdown",
      "metadata": {
        "id": "q5BJ7jLz7afs"
      },
      "source": [
        "### Group ID:\n",
        "### Group Members Name with Student ID:\n",
        "1. Nimishkumar Patel\n",
        "2. Jinsy Abey\n",
        "3. Sunil Pandey\n",
        "4. Ayan Deb\n"
      ]
    },
    {
      "cell_type": "markdown",
      "source": [
        "`-------------------Write your remarks (if any) that you want should get consider at the time of evaluation---------------`"
      ],
      "metadata": {
        "id": "YXHhoNgkAhUg"
      }
    },
    {
      "cell_type": "markdown",
      "source": [
        "Remarks: ##Add here"
      ],
      "metadata": {
        "id": "-5tK16CbA5X_"
      }
    },
    {
      "cell_type": "markdown",
      "source": [
        "# Scenario\n",
        "\n",
        "A pharmaceutical company is conducting clinical trials to evaluate the effectiveness of three antiretroviral drug combinations for treating HIV-positive patients. Due to the ethical and cost constraints of clinical trials, it is critical to identify the most effective treatment regimen using the least number of patients. Each treatment (or “arm”) can lead to different outcomes depending on patient responses. The effectiveness of each treatment is evaluated using a reward function derived from the improvement in patients’ immune system markers and survival status.\n",
        "\n"
      ],
      "metadata": {
        "id": "z8nESwkOIE_u"
      }
    },
    {
      "cell_type": "markdown",
      "source": [
        "# Problem Definition\n",
        "\n",
        "You are provided with a clinical dataset where each record corresponds to a patient, including the treatment they received and the resulting health outcomes. Your task is to simulate a clinical trial environment using various MAB strategies to sequentially recommend treatments and observe outcomes. The objective is to maximize the overall success rate across trials by identifying and favouring the most effective treatment.\n",
        "\n"
      ],
      "metadata": {
        "id": "I8w5a_8g-ehV"
      }
    },
    {
      "cell_type": "markdown",
      "source": [
        "# Dataset\n",
        "\n",
        "You will be provided a dataset containing the following fields:\n",
        "\n",
        "* ***Age (age)***: Patient's age in years at baseline.\n",
        "* ***Weight (wtkg)***: Continuous feature representing weight in kilograms at baseline.\n",
        "* ***Gender (gender)***: Binary indicator of gender (0 = Female, 1 = Male).\n",
        "* ***CD4 Counts (cd40, cd420)***: Integer values representing CD4 counts at baseline and 20+/-5 weeks.\n",
        "* ***Treatment Indicator (trt)***: Categorical feature indicating the type of treatment received (0 = ZDV only, 1 = ZDV + ddI, 2 = ZDV + Zal, 3 = ddI only).\n",
        "* ***Censoring Indicator (label)***: Binary indicator (1 = failure, 0 = censoring) denoting patient status.\n",
        "\n",
        "\n",
        "***Link for accessing dataset:***\n",
        "https://drive.google.com/file/d/1LYfIrJ4VEEGeyOsSt_qoLk7FaAv5Jfx-/view?usp=sharing\n"
      ],
      "metadata": {
        "id": "0v1QvKmDIVoe"
      }
    },
    {
      "cell_type": "markdown",
      "source": [
        "# Environment Setup\n",
        "\n",
        "***Arms (Actions):*** The treatment types (trt)\n",
        "* Arm 0: ZDV only\n",
        "* Arm 1: ZDV + ddI\n",
        "* Arm 2: ZDV + Zal\n",
        "* Arm 3: ddI only\n",
        "\n",
        "\n",
        "**Reward Function:**\n",
        "\n",
        "Reward `r` is defined as:\n",
        "\n",
        "`r = 1, if (label == 0) and (cd420 > cd40)`\n",
        "\n",
        "`r = 0, otherwise`\n",
        "\n",
        "\n",
        "  \n",
        "This reward represents a successful treatment outcome as an increase in CD4 count and survival.\n",
        "\n",
        "**Assumptions:**\n",
        "\n",
        "*Number of Iterations:* Run the simulation for at least 1000 trials (iterations), with the option to extend the number of trials depending on the convergence behavior or observed reward trends. In each iteration, simulate one patient trial using one of the bandit policies.\n"
      ],
      "metadata": {
        "id": "53dVBXmoL8aF"
      }
    },
    {
      "cell_type": "markdown",
      "source": [
        "# Requirements and Deliverables:\n",
        "Implement the Multi-Arm Bandit Problem for the given above scenario for all the below mentioned policy methods."
      ],
      "metadata": {
        "id": "Z0whadvHOywr"
      }
    },
    {
      "cell_type": "markdown",
      "source": [
        "### Initialize constants"
      ],
      "metadata": {
        "id": "Pck-piUAHnmp"
      }
    },
    {
      "cell_type": "code",
      "source": [
        "# Constants and Imports\n",
        "\n",
        "import numpy as np\n",
        "import pandas as pd\n",
        "from sklearn.preprocessing import StandardScaler\n",
        "import math\n"
      ],
      "metadata": {
        "id": "dgeqZVzXHlQE"
      },
      "execution_count": 94,
      "outputs": []
    },
    {
      "cell_type": "markdown",
      "source": [
        "# Load Dataset (0.5M)"
      ],
      "metadata": {
        "id": "Ke_jHsCrQWG0"
      }
    },
    {
      "cell_type": "code",
      "source": [
        "# Code for Dataset loading and print dataset statistics\n",
        "#-----write your code below this line---------\n",
        "\n",
        "df = pd.read_csv('Clinical_Trial.csv')\n",
        "\n",
        "print(df.info())\n",
        "print(df.head())"
      ],
      "metadata": {
        "id": "FSlqMVeEQa4T",
        "colab": {
          "base_uri": "https://localhost:8080/"
        },
        "outputId": "1c1cef20-2bbc-413d-a97b-f2a54682ebe6"
      },
      "execution_count": 95,
      "outputs": [
        {
          "output_type": "stream",
          "name": "stdout",
          "text": [
            "<class 'pandas.core.frame.DataFrame'>\n",
            "RangeIndex: 2139 entries, 0 to 2138\n",
            "Data columns (total 7 columns):\n",
            " #   Column  Non-Null Count  Dtype  \n",
            "---  ------  --------------  -----  \n",
            " 0   age     2139 non-null   int64  \n",
            " 1   wtkg    2139 non-null   float64\n",
            " 2   gender  2139 non-null   int64  \n",
            " 3   cd40    2139 non-null   int64  \n",
            " 4   cd420   2139 non-null   int64  \n",
            " 5   trt     2139 non-null   int64  \n",
            " 6   label   2139 non-null   int64  \n",
            "dtypes: float64(1), int64(6)\n",
            "memory usage: 117.1 KB\n",
            "None\n",
            "   age     wtkg  gender  cd40  cd420  trt  label\n",
            "0   48  89.8128       0   422    477    2      0\n",
            "1   61  49.4424       0   162    218    3      1\n",
            "2   45  88.4520       1   326    274    3      0\n",
            "3   47  85.2768       1   287    394    3      0\n",
            "4   43  66.6792       1   504    353    0      0\n"
          ]
        }
      ]
    },
    {
      "cell_type": "markdown",
      "source": [
        "# Design a Clinical Trial Environment (0.5M)"
      ],
      "metadata": {
        "id": "HroEzPwhQkwq"
      }
    },
    {
      "cell_type": "code",
      "source": [
        "# Code for environment setup along with reward function\n",
        "#-----write your code below this line---------\n",
        "\n",
        "class ClinicalTrialEnvironment:\n",
        "\n",
        "  # Reward function\n",
        "  def calculate_reward(data):\n",
        "    return 1 if (data['label'] == 0) and (data['cd420'] > data['cd40']) else 0\n",
        "\n",
        "\n",
        "  df['reward'] = df.apply(calculate_reward, axis=1)\n",
        "\n",
        "  # Normalize features (optional for contextual bandits)\n",
        "  scaler = StandardScaler()\n",
        "  features = ['age', 'wtkg', 'cd40']\n",
        "  df[features] = scaler.fit_transform(df[features])\n",
        "  print(df['trt'].nunique())"
      ],
      "metadata": {
        "id": "Uc7EP7ZXQsn5",
        "colab": {
          "base_uri": "https://localhost:8080/"
        },
        "outputId": "0b35cf89-af32-4df2-ca7f-eaf634deaf3e"
      },
      "execution_count": 96,
      "outputs": [
        {
          "output_type": "stream",
          "name": "stdout",
          "text": [
            "4\n"
          ]
        }
      ]
    },
    {
      "cell_type": "markdown",
      "source": [
        "# Using Random Policy (0.5M)\n",
        "Implement a random policy for treatment selection and print each 100th iteration. (Mandatory)"
      ],
      "metadata": {
        "id": "Hvbd8vPwRMBL"
      }
    },
    {
      "cell_type": "code",
      "source": [
        "#  run the environment with an agent that is guided by a random policy\n",
        "#-----write your code below this line---------\n",
        "def random_policy() :\n",
        "  # Number of arms (treatments)\n",
        "  n_arms = df['trt'].nunique()\n",
        "\n",
        "  # Simulation parameters\n",
        "  n_trials = 1000\n",
        "  cumulative_rewards = 0\n",
        "  arm_counts = np.zeros(n_arms)\n",
        "\n",
        "  for trial in range(n_trials):\n",
        "    # Randomly select an arm\n",
        "    selected_arm = np.random.choice(n_arms)\n",
        "\n",
        "    # Randomly sample a patient who received this treatment\n",
        "    patient = df[df['trt'] == selected_arm].sample(1)\n",
        "    reward = patient['reward'].values[0]\n",
        "\n",
        "    cumulative_rewards += reward\n",
        "    arm_counts[selected_arm] += 1\n",
        "\n",
        "    if(trial % 100 == 0):\n",
        "      print(f\"Iteration {trial}: Selected Arm {selected_arm}, Reward {cumulative_rewards}\")\n",
        "\n",
        "  return cumulative_rewards, arm_counts, n_trials\n",
        "\n",
        "\n",
        "cumulative_rewards, arm_counts, n_trials = random_policy()\n",
        "print(\"Total Reward:\", cumulative_rewards)\n",
        "print(\"Arm Selection Counts:\", arm_counts)\n",
        "print(\"Average Reward per Arm:\", arm_counts / n_trials)"
      ],
      "metadata": {
        "id": "99WQfj3eROWc",
        "colab": {
          "base_uri": "https://localhost:8080/"
        },
        "outputId": "d8e1df1b-9774-4277-d600-bc776a21c4e6"
      },
      "execution_count": 97,
      "outputs": [
        {
          "output_type": "stream",
          "name": "stdout",
          "text": [
            "Iteration 0: Selected Arm 3, Reward 0\n",
            "Iteration 100: Selected Arm 0, Reward 41\n",
            "Iteration 200: Selected Arm 0, Reward 88\n",
            "Iteration 300: Selected Arm 0, Reward 129\n",
            "Iteration 400: Selected Arm 3, Reward 176\n",
            "Iteration 500: Selected Arm 1, Reward 223\n",
            "Iteration 600: Selected Arm 1, Reward 260\n",
            "Iteration 700: Selected Arm 1, Reward 304\n",
            "Iteration 800: Selected Arm 1, Reward 339\n",
            "Iteration 900: Selected Arm 1, Reward 380\n",
            "Total Reward: 424\n",
            "Arm Selection Counts: [248. 271. 234. 247.]\n",
            "Average Reward per Arm: [0.248 0.271 0.234 0.247]\n"
          ]
        }
      ]
    },
    {
      "cell_type": "markdown",
      "source": [
        "# Using Greedy Policy (1M)\n",
        "Implement the Greedy policy that always selects the treatment with the highest average reward and print each 100th iteration. (Mandatory)"
      ],
      "metadata": {
        "id": "5t2f1AlERib1"
      }
    },
    {
      "cell_type": "code",
      "source": [
        "#  run the environment with an agent that is guided by a greedy policy\n",
        "#-----write your code below this line---------\n",
        "def greedy_policy() :\n",
        "  # Number of arms (treatments)\n",
        "  n_arms = df['trt'].nunique()\n",
        "\n",
        "  # Simulation parameters\n",
        "  n_trials = 1000\n",
        "  cumulative_rewards = 0\n",
        "  arm_counts = np.zeros(n_arms)\n",
        "  greedy_Q = np.zeros(n_arms)\n",
        "  greedy_N = np.zeros(n_arms)\n",
        "\n",
        "  for trial in range(n_trials):\n",
        "    # Select an arm with max Q\n",
        "    selected_arm = np.argmax(greedy_Q)\n",
        "\n",
        "    # Randomly sample a patient who received this treatment\n",
        "    patient = df[df['trt'] == selected_arm].sample(1)\n",
        "    reward = patient['reward'].values[0]\n",
        "\n",
        "    greedy_N[selected_arm] += 1\n",
        "    greedy_Q[selected_arm] += (reward - greedy_Q[selected_arm]) / greedy_N[selected_arm]  # Update average reward\n",
        "    cumulative_rewards += reward\n",
        "    arm_counts[selected_arm] += 1\n",
        "\n",
        "    if(trial % 100 == 0):\n",
        "      print(f\"Iteration {trial}: Selected Arm {selected_arm}, Reward {cumulative_rewards}\")\n",
        "\n",
        "  return cumulative_rewards, arm_counts, n_trials\n",
        "\n",
        "\n",
        "cumulative_rewards, arm_counts, n_trials = greedy_policy()\n",
        "print(\"Total Reward:\", cumulative_rewards)\n",
        "print(\"Arm Selection Counts:\", arm_counts)\n",
        "print(\"Average Reward per Arm:\", arm_counts / n_trials)\n",
        "\n"
      ],
      "metadata": {
        "id": "TbWz1eCbRib2",
        "colab": {
          "base_uri": "https://localhost:8080/"
        },
        "outputId": "d9a746d0-15af-43c2-d2f0-733c9f6f5764"
      },
      "execution_count": 98,
      "outputs": [
        {
          "output_type": "stream",
          "name": "stdout",
          "text": [
            "Iteration 0: Selected Arm 0, Reward 1\n",
            "Iteration 100: Selected Arm 0, Reward 29\n",
            "Iteration 200: Selected Arm 0, Reward 68\n",
            "Iteration 300: Selected Arm 0, Reward 100\n",
            "Iteration 400: Selected Arm 0, Reward 124\n",
            "Iteration 500: Selected Arm 0, Reward 160\n",
            "Iteration 600: Selected Arm 0, Reward 192\n",
            "Iteration 700: Selected Arm 0, Reward 221\n",
            "Iteration 800: Selected Arm 0, Reward 257\n",
            "Iteration 900: Selected Arm 0, Reward 291\n",
            "Total Reward: 318\n",
            "Arm Selection Counts: [1000.    0.    0.    0.]\n",
            "Average Reward per Arm: [1. 0. 0. 0.]\n"
          ]
        }
      ]
    },
    {
      "cell_type": "markdown",
      "source": [
        "# Using Epsilon-Greedy Policy (1.5M)\n",
        "Implement the ε-Greedy policy with ε = 0.1, 0.2, 0.5. Report iteration-wise selections and rewards. Determine which ε yields the best result. (Mandatory)"
      ],
      "metadata": {
        "id": "h65VF2JBRiph"
      }
    },
    {
      "cell_type": "code",
      "source": [
        "#  run the environment with an agent that is guided by a epsilon-greedy policy\n",
        "#-----write your code below this line---------\n",
        "def epsilon_greedy_policy(epsilon) :\n",
        "  # Number of arms (treatments)\n",
        "  n_arms = df['trt'].nunique()\n",
        "\n",
        "  # Simulation parameters\n",
        "  n_trials = 1000\n",
        "  cumulative_rewards = 0\n",
        "  selections = []\n",
        "  arm_counts = np.zeros(n_arms)\n",
        "  epsilon_greedy_Q = np.zeros(n_arms)\n",
        "  epsilon_greedy_N = np.zeros(n_arms)\n",
        "\n",
        "  for trial in range(n_trials):\n",
        "    # Select an arm\n",
        "    if np.random.random() < epsilon:\n",
        "        selected_arm = np.random.choice(n_arms)  # Exploration\n",
        "    else:\n",
        "        selected_arm = np.argmax(epsilon_greedy_Q)  # Exploitation\n",
        "\n",
        "    # Randomly sample a patient who received this treatment\n",
        "    patient = df[df['trt'] == selected_arm].sample(1)\n",
        "    reward = patient['reward'].values[0]\n",
        "\n",
        "    epsilon_greedy_N[selected_arm] += 1\n",
        "    epsilon_greedy_Q[selected_arm] += (reward - epsilon_greedy_Q[selected_arm]) / epsilon_greedy_N[selected_arm]  # Update average reward\n",
        "    cumulative_rewards += reward\n",
        "    selections.append(selected_arm)\n",
        "    arm_counts[selected_arm] += 1\n",
        "\n",
        "  return cumulative_rewards, arm_counts, n_trials, selections\n",
        "\n",
        "epsilon_values = [0.5, 0.1, 0.2]\n",
        "for val in epsilon_values:\n",
        "  print(val)\n",
        "  cumulative_rewards, arm_counts, n_trials, selections = epsilon_greedy_policy(val)\n",
        "  print(\"Epsilon:\",  val, \"Total Reward:\", cumulative_rewards)\n",
        "  print(\"Arm Selection Counts:\", arm_counts)\n",
        "  print(\"Selection: \", selections)\n",
        "  print(\"Average Reward per Arm:\", arm_counts / n_trials)\n",
        "\n"
      ],
      "metadata": {
        "id": "M6O9odmlRiph",
        "colab": {
          "base_uri": "https://localhost:8080/"
        },
        "outputId": "45348765-d40e-4940-d93c-85e66d68518e"
      },
      "execution_count": 99,
      "outputs": [
        {
          "output_type": "stream",
          "name": "stdout",
          "text": [
            "0.5\n",
            "Epsilon: 0.5 Total Reward: 524\n",
            "Arm Selection Counts: [131. 611. 136. 122.]\n",
            "Selection:  [1, 3, np.int64(1), 2, np.int64(1), np.int64(2), np.int64(2), 1, 1, 0, 2, 0, np.int64(2), np.int64(2), 1, np.int64(2), 2, 3, np.int64(2), 3, np.int64(2), 3, 2, 2, 2, np.int64(2), np.int64(2), np.int64(2), 0, 2, 0, np.int64(2), 2, 2, 2, np.int64(2), 0, np.int64(2), np.int64(2), np.int64(2), 0, np.int64(2), 2, np.int64(2), 3, 1, np.int64(1), np.int64(2), np.int64(2), np.int64(2), 0, 2, np.int64(2), np.int64(2), 1, 0, np.int64(2), 3, np.int64(1), 3, 0, 0, np.int64(1), np.int64(1), 3, np.int64(1), 0, 0, np.int64(1), 0, np.int64(1), 3, 3, np.int64(1), 3, 1, np.int64(1), 0, 0, 3, 0, 3, 0, 3, np.int64(1), np.int64(1), np.int64(1), np.int64(1), 0, 3, np.int64(1), 1, 2, 2, 3, np.int64(1), 2, np.int64(1), np.int64(1), 2, np.int64(1), np.int64(1), 1, np.int64(1), 0, 1, 2, 3, 1, 1, 2, 0, np.int64(2), 1, np.int64(2), np.int64(1), np.int64(1), 1, np.int64(1), 0, 1, np.int64(1), np.int64(1), 1, np.int64(1), 0, 3, np.int64(1), np.int64(1), np.int64(1), np.int64(1), 2, 2, 1, np.int64(1), 0, np.int64(1), np.int64(1), 2, 2, 0, 0, 1, np.int64(1), np.int64(1), 3, 2, 3, np.int64(1), 1, 0, 0, 1, 1, 1, 1, 0, np.int64(1), 0, np.int64(1), 0, np.int64(1), 2, np.int64(1), np.int64(1), 0, np.int64(1), 2, 0, np.int64(1), np.int64(1), 0, 1, np.int64(1), 2, 2, np.int64(1), np.int64(1), np.int64(1), 2, np.int64(1), np.int64(1), 2, np.int64(1), np.int64(1), np.int64(1), 2, np.int64(1), 0, np.int64(1), 1, np.int64(1), np.int64(1), 2, 0, np.int64(1), np.int64(1), 3, np.int64(1), np.int64(1), np.int64(1), np.int64(1), 0, 1, np.int64(1), 1, 2, np.int64(1), 1, np.int64(1), np.int64(1), 1, np.int64(1), 2, np.int64(1), np.int64(1), np.int64(1), np.int64(1), 1, 3, 0, np.int64(1), np.int64(1), np.int64(1), 0, np.int64(1), 2, np.int64(1), np.int64(1), 3, 2, np.int64(3), np.int64(3), 0, 3, np.int64(1), np.int64(1), 1, np.int64(1), 1, 1, 2, 1, 0, np.int64(1), np.int64(1), np.int64(1), 2, np.int64(1), np.int64(1), np.int64(1), np.int64(1), np.int64(1), np.int64(1), 1, np.int64(1), 2, 1, np.int64(1), np.int64(1), np.int64(1), 1, np.int64(1), np.int64(1), np.int64(1), 3, np.int64(1), np.int64(1), np.int64(1), np.int64(1), np.int64(1), np.int64(1), np.int64(1), np.int64(1), np.int64(1), np.int64(1), np.int64(1), 1, 2, 0, 2, np.int64(1), 1, 1, np.int64(1), np.int64(1), 2, 0, 2, np.int64(1), np.int64(1), np.int64(1), 3, 2, np.int64(1), np.int64(1), np.int64(1), np.int64(3), np.int64(1), 0, np.int64(1), 0, np.int64(1), np.int64(1), np.int64(1), np.int64(1), np.int64(1), np.int64(1), 0, np.int64(1), np.int64(1), 0, np.int64(1), np.int64(1), np.int64(1), np.int64(1), np.int64(1), np.int64(1), np.int64(1), np.int64(1), np.int64(1), np.int64(1), 0, np.int64(1), 2, np.int64(1), 0, np.int64(1), 2, np.int64(1), 3, np.int64(1), np.int64(1), 0, 2, np.int64(1), np.int64(1), np.int64(1), np.int64(1), np.int64(1), np.int64(1), 0, np.int64(1), np.int64(1), 1, 2, 2, 0, np.int64(1), 3, 2, np.int64(1), 2, 1, np.int64(1), np.int64(1), 0, np.int64(1), 3, 2, np.int64(1), np.int64(1), 1, np.int64(1), 0, np.int64(1), np.int64(1), np.int64(1), 0, np.int64(1), np.int64(1), np.int64(1), np.int64(1), 3, 2, np.int64(1), 2, 2, np.int64(1), np.int64(1), np.int64(1), np.int64(1), 3, np.int64(1), np.int64(1), np.int64(1), 2, 1, 3, np.int64(1), 1, 0, 0, np.int64(1), 1, 1, np.int64(1), np.int64(1), 3, 3, 1, np.int64(1), np.int64(1), 3, np.int64(1), np.int64(1), np.int64(3), 3, np.int64(1), 0, np.int64(3), np.int64(1), np.int64(1), 0, 2, np.int64(1), 1, 0, 0, np.int64(1), np.int64(1), np.int64(1), np.int64(1), 1, np.int64(1), np.int64(1), np.int64(1), 1, 3, np.int64(1), 0, 2, np.int64(1), 0, np.int64(1), np.int64(1), np.int64(1), np.int64(1), np.int64(1), np.int64(1), 0, np.int64(1), 3, np.int64(1), 2, 2, np.int64(1), np.int64(1), np.int64(1), 3, 1, np.int64(1), np.int64(1), 0, 0, 3, np.int64(1), np.int64(1), np.int64(1), 1, np.int64(1), 1, 0, 1, np.int64(1), np.int64(1), np.int64(1), 0, 0, 1, np.int64(1), np.int64(1), np.int64(1), 3, 1, 1, np.int64(1), np.int64(1), 3, 0, 1, np.int64(1), 0, 3, np.int64(1), 0, np.int64(1), np.int64(1), np.int64(1), 3, 2, np.int64(1), np.int64(1), 1, np.int64(1), 3, np.int64(1), np.int64(1), np.int64(1), 2, np.int64(1), np.int64(1), 1, np.int64(1), 0, 1, 2, 0, np.int64(1), np.int64(1), np.int64(1), np.int64(1), 2, 0, np.int64(1), np.int64(1), 0, np.int64(1), 1, 3, np.int64(1), 1, np.int64(1), 2, np.int64(1), np.int64(1), np.int64(1), np.int64(1), np.int64(1), np.int64(1), np.int64(1), 0, np.int64(1), np.int64(1), np.int64(1), np.int64(1), np.int64(1), np.int64(1), 3, 2, 0, np.int64(1), 3, np.int64(1), np.int64(1), np.int64(1), np.int64(1), 2, np.int64(1), 3, np.int64(1), np.int64(1), 1, 0, np.int64(1), np.int64(1), np.int64(1), np.int64(1), 1, np.int64(1), np.int64(1), np.int64(1), 1, np.int64(1), 0, np.int64(1), 2, 3, 2, np.int64(1), 1, np.int64(1), np.int64(1), np.int64(1), 2, 3, 3, 0, np.int64(1), 3, 3, 2, np.int64(1), 2, 2, 2, 3, np.int64(1), 1, 2, np.int64(1), 0, np.int64(1), 0, np.int64(1), 0, np.int64(1), 3, 1, np.int64(1), 2, 0, np.int64(1), 3, 1, 3, 3, 0, np.int64(1), np.int64(1), 2, 1, 2, np.int64(1), np.int64(1), 1, np.int64(1), 0, 0, np.int64(1), np.int64(1), np.int64(1), 3, 0, np.int64(1), np.int64(1), np.int64(1), 0, 1, 1, np.int64(1), np.int64(1), 3, 0, np.int64(1), np.int64(1), 1, 3, np.int64(1), 3, np.int64(1), np.int64(1), np.int64(1), np.int64(1), 3, 1, np.int64(1), 2, 1, np.int64(1), np.int64(1), 1, 3, 3, 3, 0, 2, 2, np.int64(1), 1, np.int64(1), 0, np.int64(1), 2, 1, 0, 2, 1, np.int64(1), np.int64(1), np.int64(1), np.int64(1), 0, 3, 1, np.int64(1), np.int64(1), np.int64(1), np.int64(1), 1, 3, np.int64(1), np.int64(1), 0, np.int64(1), np.int64(1), np.int64(1), np.int64(1), 3, 3, np.int64(1), np.int64(1), np.int64(1), 0, 3, 3, np.int64(1), 1, 1, np.int64(1), np.int64(1), np.int64(1), np.int64(1), np.int64(1), 0, np.int64(1), 1, 1, 3, 2, np.int64(1), 1, 1, np.int64(1), 3, 3, np.int64(1), 0, np.int64(1), np.int64(1), np.int64(1), 0, np.int64(1), 0, np.int64(1), 0, 0, 3, np.int64(1), 1, 3, 1, 3, np.int64(1), np.int64(1), np.int64(1), np.int64(1), 1, 1, 3, np.int64(1), 0, np.int64(1), np.int64(1), 3, 0, 1, np.int64(1), 0, np.int64(1), np.int64(1), 3, np.int64(1), 2, 0, np.int64(1), 1, np.int64(1), np.int64(1), np.int64(1), 1, np.int64(1), np.int64(1), 2, np.int64(1), 0, np.int64(1), 2, 2, np.int64(1), 3, np.int64(1), np.int64(1), np.int64(1), np.int64(1), np.int64(1), 3, np.int64(1), np.int64(1), np.int64(1), 3, 0, np.int64(1), 1, np.int64(1), 2, 0, np.int64(1), 1, 0, np.int64(1), 0, 3, np.int64(1), 2, 3, 3, np.int64(1), 3, np.int64(1), np.int64(1), np.int64(1), 1, 0, 0, np.int64(1), np.int64(1), 2, 3, np.int64(1), 1, 1, np.int64(1), 0, 0, np.int64(1), 1, np.int64(1), np.int64(1), np.int64(1), 2, 2, 1, np.int64(1), 0, 0, np.int64(1), 3, np.int64(1), np.int64(1), 2, 1, 1, np.int64(1), np.int64(1), np.int64(1), np.int64(1), 0, 2, np.int64(1), np.int64(1), 0, 3, 3, np.int64(1), np.int64(1), 3, 1, 0, np.int64(1), np.int64(1), 3, np.int64(1), 3, np.int64(1), 1, np.int64(1), 1, np.int64(1), 0, 2, np.int64(1), 1, np.int64(1), np.int64(1), np.int64(1), 1, 3, 1, 3, 3, np.int64(1), np.int64(1), 3, 1, np.int64(1), np.int64(1), np.int64(1), 3, 2, np.int64(1), np.int64(1), np.int64(1), np.int64(1), 2, 2, np.int64(1), np.int64(1), np.int64(1), 2, 0, 3, 2, 3, np.int64(1), np.int64(1), np.int64(1), np.int64(1), 2, np.int64(1), np.int64(1), 1, np.int64(1), 3, np.int64(1), np.int64(1), np.int64(1), 1, 3, 2, 3, np.int64(1), np.int64(1), 1, np.int64(1), np.int64(1), np.int64(1), 0, np.int64(1), 1, 3, 2, np.int64(1), np.int64(1), 1, np.int64(1), 1, 3, 0, np.int64(1), 1, 0, np.int64(1), 3, 2, np.int64(1), 1, 1, np.int64(1), np.int64(1), np.int64(1), np.int64(1), 1, np.int64(1), 3, 2, 0, np.int64(1), np.int64(1), 1, 0, 1, np.int64(1), np.int64(1), np.int64(1), np.int64(1), 1, np.int64(1), 2, np.int64(1), 3, np.int64(1), np.int64(1), np.int64(1), 3, 3, 0, np.int64(1), 1, 1, 3, 2, 2, 2, 2, 0, np.int64(1), np.int64(1), np.int64(1), 1, 1, np.int64(1), 0, np.int64(1), np.int64(1), 3, 1, np.int64(1), np.int64(1), np.int64(1), np.int64(1), np.int64(1), 2, 3, np.int64(1), np.int64(1), 0, np.int64(1), 3, np.int64(1)]\n",
            "Average Reward per Arm: [0.131 0.611 0.136 0.122]\n",
            "0.1\n",
            "Epsilon: 0.1 Total Reward: 506\n",
            "Arm Selection Counts: [ 39. 425.  44. 492.]\n",
            "Selection:  [np.int64(0), np.int64(0), np.int64(0), np.int64(0), 3, np.int64(0), np.int64(0), np.int64(0), 3, np.int64(3), np.int64(3), np.int64(3), 2, np.int64(2), np.int64(3), np.int64(2), np.int64(2), np.int64(2), np.int64(2), np.int64(2), np.int64(2), np.int64(2), np.int64(2), np.int64(2), 1, np.int64(2), np.int64(3), np.int64(2), np.int64(2), np.int64(2), np.int64(2), np.int64(2), np.int64(0), np.int64(3), np.int64(2), np.int64(2), np.int64(2), np.int64(2), np.int64(2), np.int64(2), np.int64(2), np.int64(0), np.int64(3), np.int64(3), np.int64(3), np.int64(3), np.int64(3), np.int64(3), np.int64(3), np.int64(3), 3, np.int64(3), 0, np.int64(3), np.int64(3), np.int64(3), np.int64(3), np.int64(3), np.int64(3), np.int64(3), np.int64(3), np.int64(3), np.int64(3), 2, np.int64(3), np.int64(3), np.int64(3), np.int64(3), np.int64(3), 1, np.int64(3), np.int64(1), np.int64(3), np.int64(3), np.int64(3), np.int64(3), np.int64(3), np.int64(3), np.int64(3), np.int64(3), np.int64(3), np.int64(3), np.int64(3), np.int64(3), np.int64(3), 0, np.int64(3), np.int64(3), np.int64(3), np.int64(3), 1, np.int64(3), 1, np.int64(3), np.int64(3), 0, np.int64(3), np.int64(3), np.int64(3), np.int64(3), np.int64(3), np.int64(3), np.int64(3), np.int64(3), np.int64(3), 1, np.int64(3), np.int64(3), np.int64(3), np.int64(3), np.int64(3), np.int64(3), np.int64(3), np.int64(3), np.int64(3), np.int64(3), np.int64(3), np.int64(3), np.int64(3), np.int64(3), np.int64(3), 2, 0, np.int64(3), np.int64(3), np.int64(3), np.int64(3), np.int64(3), np.int64(3), 0, np.int64(3), 0, np.int64(3), np.int64(3), np.int64(3), np.int64(3), 2, np.int64(3), np.int64(0), np.int64(3), np.int64(3), np.int64(3), np.int64(3), np.int64(3), 0, np.int64(3), np.int64(3), np.int64(0), np.int64(3), 0, np.int64(3), np.int64(3), np.int64(3), 3, np.int64(3), np.int64(3), 1, 1, 0, np.int64(1), np.int64(1), np.int64(1), np.int64(1), np.int64(3), np.int64(3), np.int64(3), np.int64(3), 1, 1, np.int64(3), np.int64(3), np.int64(3), np.int64(3), np.int64(3), np.int64(3), np.int64(3), np.int64(3), 1, np.int64(3), np.int64(3), np.int64(3), np.int64(3), 0, np.int64(3), np.int64(3), np.int64(3), np.int64(3), 2, np.int64(3), np.int64(0), np.int64(3), np.int64(3), np.int64(3), np.int64(3), np.int64(3), np.int64(3), np.int64(3), 3, np.int64(3), np.int64(3), np.int64(3), np.int64(3), np.int64(3), np.int64(3), np.int64(3), np.int64(3), np.int64(3), np.int64(3), np.int64(3), np.int64(3), np.int64(3), np.int64(3), np.int64(3), 2, np.int64(3), np.int64(3), np.int64(3), np.int64(3), np.int64(3), np.int64(3), np.int64(3), np.int64(3), np.int64(3), np.int64(3), np.int64(3), np.int64(3), np.int64(3), 2, np.int64(3), np.int64(3), np.int64(3), np.int64(3), np.int64(3), np.int64(3), 2, 0, np.int64(3), np.int64(3), np.int64(3), np.int64(3), np.int64(3), np.int64(3), np.int64(3), 0, np.int64(3), np.int64(3), np.int64(3), np.int64(3), np.int64(3), np.int64(3), np.int64(3), np.int64(3), np.int64(3), np.int64(3), 2, np.int64(3), np.int64(3), np.int64(3), np.int64(3), np.int64(3), np.int64(3), np.int64(3), np.int64(3), np.int64(3), np.int64(3), np.int64(3), np.int64(3), np.int64(3), np.int64(3), np.int64(3), np.int64(3), np.int64(3), np.int64(3), np.int64(3), np.int64(3), np.int64(3), np.int64(3), np.int64(3), np.int64(3), np.int64(3), np.int64(3), np.int64(3), np.int64(3), np.int64(3), np.int64(3), np.int64(3), np.int64(3), np.int64(3), np.int64(3), np.int64(3), np.int64(3), np.int64(3), np.int64(3), np.int64(3), np.int64(3), np.int64(3), 3, np.int64(3), np.int64(3), np.int64(3), np.int64(3), 3, np.int64(3), np.int64(3), 3, np.int64(3), np.int64(3), np.int64(3), 3, np.int64(3), np.int64(3), np.int64(3), np.int64(3), 1, np.int64(3), np.int64(3), np.int64(3), np.int64(3), np.int64(3), np.int64(3), np.int64(3), np.int64(3), np.int64(3), 1, np.int64(3), np.int64(3), np.int64(3), np.int64(3), np.int64(3), np.int64(3), np.int64(3), np.int64(3), np.int64(3), np.int64(3), np.int64(3), np.int64(3), np.int64(3), np.int64(3), 3, np.int64(3), np.int64(3), np.int64(3), np.int64(3), np.int64(3), np.int64(3), np.int64(3), np.int64(3), np.int64(3), np.int64(3), np.int64(3), np.int64(3), np.int64(3), np.int64(3), np.int64(3), np.int64(3), np.int64(3), np.int64(3), np.int64(3), np.int64(3), np.int64(3), np.int64(3), np.int64(3), np.int64(3), np.int64(3), np.int64(3), np.int64(3), np.int64(3), np.int64(3), np.int64(3), 3, np.int64(3), np.int64(3), np.int64(3), np.int64(3), np.int64(3), np.int64(3), 0, np.int64(3), np.int64(3), np.int64(3), np.int64(3), np.int64(3), np.int64(3), np.int64(3), np.int64(3), np.int64(3), 3, np.int64(3), np.int64(3), np.int64(3), 3, np.int64(3), 0, np.int64(3), np.int64(3), np.int64(3), np.int64(3), np.int64(3), np.int64(3), 1, np.int64(3), np.int64(3), np.int64(3), np.int64(3), np.int64(3), np.int64(3), np.int64(3), np.int64(3), np.int64(3), np.int64(3), np.int64(3), np.int64(3), np.int64(3), np.int64(3), np.int64(3), np.int64(3), np.int64(3), np.int64(3), np.int64(3), np.int64(3), np.int64(3), np.int64(3), np.int64(3), np.int64(3), np.int64(3), 3, np.int64(3), np.int64(3), np.int64(3), np.int64(3), np.int64(3), np.int64(3), np.int64(3), np.int64(3), np.int64(3), np.int64(3), np.int64(3), np.int64(3), np.int64(3), 1, np.int64(1), np.int64(3), np.int64(3), np.int64(3), 1, np.int64(1), np.int64(1), np.int64(1), np.int64(1), 0, np.int64(1), np.int64(1), np.int64(1), np.int64(1), np.int64(1), np.int64(1), np.int64(1), np.int64(1), np.int64(3), np.int64(3), np.int64(3), np.int64(3), np.int64(3), np.int64(3), np.int64(3), np.int64(3), np.int64(3), np.int64(3), 1, np.int64(1), np.int64(3), 3, np.int64(3), np.int64(3), np.int64(3), np.int64(3), np.int64(3), np.int64(3), np.int64(3), 3, np.int64(3), np.int64(3), np.int64(3), np.int64(3), np.int64(3), np.int64(3), np.int64(3), 1, np.int64(1), np.int64(3), np.int64(3), np.int64(3), np.int64(1), np.int64(1), np.int64(1), np.int64(3), np.int64(3), np.int64(3), np.int64(3), np.int64(3), np.int64(3), np.int64(3), np.int64(3), np.int64(3), np.int64(3), 2, np.int64(3), np.int64(3), np.int64(3), np.int64(3), np.int64(3), np.int64(3), np.int64(3), np.int64(3), np.int64(3), np.int64(3), np.int64(3), np.int64(3), np.int64(3), np.int64(3), np.int64(3), np.int64(3), np.int64(3), np.int64(3), np.int64(3), np.int64(3), np.int64(3), np.int64(3), np.int64(3), np.int64(3), np.int64(3), np.int64(3), np.int64(3), np.int64(3), np.int64(3), np.int64(1), np.int64(3), np.int64(3), np.int64(3), np.int64(3), np.int64(3), np.int64(3), np.int64(3), 3, np.int64(3), np.int64(3), np.int64(3), np.int64(3), 0, np.int64(3), np.int64(3), np.int64(3), np.int64(3), np.int64(3), np.int64(3), np.int64(3), np.int64(3), np.int64(3), np.int64(3), np.int64(3), np.int64(3), np.int64(3), np.int64(3), 0, np.int64(3), np.int64(3), np.int64(3), np.int64(3), np.int64(3), np.int64(3), 2, np.int64(3), np.int64(3), np.int64(3), np.int64(3), np.int64(3), np.int64(3), np.int64(3), np.int64(3), np.int64(3), np.int64(3), np.int64(3), np.int64(3), np.int64(3), np.int64(3), np.int64(3), np.int64(3), np.int64(3), np.int64(1), np.int64(1), np.int64(1), np.int64(1), np.int64(1), np.int64(1), np.int64(1), np.int64(1), 2, np.int64(1), np.int64(1), np.int64(1), np.int64(1), np.int64(1), np.int64(1), np.int64(1), np.int64(1), np.int64(1), np.int64(1), np.int64(1), np.int64(1), np.int64(1), np.int64(1), np.int64(1), np.int64(1), np.int64(1), np.int64(1), np.int64(1), np.int64(1), np.int64(1), np.int64(1), np.int64(1), np.int64(1), np.int64(1), 2, np.int64(1), np.int64(1), np.int64(1), np.int64(1), np.int64(1), np.int64(1), 3, np.int64(1), np.int64(1), np.int64(1), np.int64(1), np.int64(1), np.int64(1), np.int64(1), np.int64(1), np.int64(1), np.int64(1), np.int64(1), np.int64(1), np.int64(1), 3, np.int64(1), np.int64(1), np.int64(1), np.int64(1), np.int64(1), np.int64(1), np.int64(1), np.int64(1), np.int64(1), np.int64(1), np.int64(1), np.int64(1), np.int64(1), np.int64(1), np.int64(1), np.int64(1), np.int64(1), np.int64(1), np.int64(1), np.int64(1), np.int64(1), np.int64(1), np.int64(1), np.int64(1), np.int64(1), np.int64(1), np.int64(1), 2, np.int64(1), np.int64(1), np.int64(1), np.int64(1), np.int64(1), np.int64(1), np.int64(1), np.int64(1), np.int64(1), 3, np.int64(1), np.int64(1), np.int64(1), np.int64(1), np.int64(1), np.int64(1), np.int64(1), np.int64(1), np.int64(1), np.int64(1), 1, np.int64(1), np.int64(1), np.int64(1), np.int64(1), np.int64(1), 0, np.int64(1), np.int64(1), np.int64(1), np.int64(1), np.int64(1), np.int64(1), np.int64(1), np.int64(1), np.int64(1), np.int64(1), np.int64(1), np.int64(1), 3, np.int64(1), np.int64(1), 3, np.int64(1), 0, 0, 2, 1, np.int64(1), np.int64(1), np.int64(1), np.int64(1), np.int64(1), np.int64(1), np.int64(1), np.int64(1), 2, np.int64(1), np.int64(1), np.int64(1), np.int64(1), np.int64(1), np.int64(1), np.int64(1), np.int64(1), np.int64(1), np.int64(1), np.int64(1), np.int64(1), np.int64(1), np.int64(1), 0, np.int64(1), np.int64(1), np.int64(1), np.int64(1), np.int64(1), np.int64(1), np.int64(1), np.int64(1), np.int64(1), np.int64(1), np.int64(1), 1, np.int64(1), np.int64(1), np.int64(1), np.int64(1), np.int64(1), np.int64(1), np.int64(1), np.int64(1), 0, np.int64(1), np.int64(1), np.int64(1), np.int64(1), np.int64(1), np.int64(1), np.int64(1), np.int64(1), 1, np.int64(1), np.int64(1), np.int64(1), 0, np.int64(1), np.int64(1), np.int64(1), np.int64(1), np.int64(1), np.int64(1), np.int64(1), 2, np.int64(1), np.int64(1), np.int64(1), 1, np.int64(1), np.int64(1), np.int64(1), np.int64(1), np.int64(1), np.int64(1), 0, np.int64(1), np.int64(1), np.int64(1), np.int64(1), 0, np.int64(1), np.int64(1), 2, np.int64(1), np.int64(1), 1, np.int64(1), np.int64(1), np.int64(1), np.int64(1), np.int64(1), np.int64(1), np.int64(1), 1, np.int64(1), np.int64(1), np.int64(1), np.int64(1), np.int64(1), np.int64(1), np.int64(1), np.int64(1), np.int64(1), np.int64(1), np.int64(1), np.int64(1), np.int64(1), np.int64(1), np.int64(1), np.int64(1), np.int64(1), np.int64(1), np.int64(1), np.int64(1), np.int64(1), np.int64(1), np.int64(1), np.int64(1), np.int64(1), np.int64(1), np.int64(1), np.int64(1), np.int64(1), np.int64(1), np.int64(1), np.int64(1), np.int64(1), np.int64(1), np.int64(1), np.int64(1), np.int64(1), np.int64(1), np.int64(1), 0, np.int64(1), np.int64(1), np.int64(1), np.int64(1), np.int64(1), np.int64(1), np.int64(1), np.int64(1), np.int64(1), np.int64(1), np.int64(1), np.int64(1), np.int64(1), np.int64(1), np.int64(1), np.int64(1), np.int64(1), 2, np.int64(1), np.int64(1), np.int64(1), np.int64(1), np.int64(1), np.int64(1), np.int64(1), np.int64(1), np.int64(1), np.int64(1), np.int64(1), np.int64(1), np.int64(1), 0, np.int64(1), np.int64(1), 3, np.int64(1), np.int64(1), np.int64(1), np.int64(1), np.int64(1), np.int64(1), 3, np.int64(1), np.int64(1), np.int64(1), np.int64(1), np.int64(1), np.int64(1), np.int64(1), np.int64(1), np.int64(1), np.int64(1), np.int64(1), np.int64(1), np.int64(1), np.int64(1), np.int64(1), np.int64(1), np.int64(1), np.int64(1), np.int64(1), np.int64(1), np.int64(1), np.int64(1), np.int64(1), np.int64(1), np.int64(1), np.int64(1), 1, np.int64(1), np.int64(1), np.int64(1), np.int64(1), np.int64(1), np.int64(1), np.int64(1), 1, np.int64(1), np.int64(1), np.int64(1), np.int64(1), np.int64(1), np.int64(1), np.int64(1), np.int64(1), np.int64(1), np.int64(1), np.int64(1), np.int64(1), np.int64(1), np.int64(1), np.int64(1), 2, np.int64(1), np.int64(1), np.int64(1), np.int64(1), np.int64(1), np.int64(1), np.int64(1), np.int64(1), np.int64(1), np.int64(1), np.int64(1), np.int64(1), np.int64(1), np.int64(1), np.int64(1), 1, np.int64(1), 3, np.int64(1), np.int64(1), 2, np.int64(1), np.int64(1), np.int64(1), np.int64(1), np.int64(1), np.int64(1), np.int64(1), np.int64(1), np.int64(1), np.int64(1), np.int64(1), np.int64(1), np.int64(1), np.int64(1), np.int64(1), np.int64(1), np.int64(1), np.int64(1), np.int64(1), np.int64(1), np.int64(1), np.int64(1), np.int64(1), np.int64(1), np.int64(1), np.int64(1), np.int64(1), np.int64(1), np.int64(1), np.int64(1)]\n",
            "Average Reward per Arm: [0.039 0.425 0.044 0.492]\n",
            "0.2\n",
            "Epsilon: 0.2 Total Reward: 490\n",
            "Arm Selection Counts: [103. 506. 333.  58.]\n",
            "Selection:  [np.int64(0), np.int64(0), np.int64(0), np.int64(0), np.int64(0), np.int64(0), 1, np.int64(0), 0, np.int64(0), np.int64(0), np.int64(0), np.int64(0), np.int64(0), np.int64(0), np.int64(0), np.int64(0), np.int64(0), np.int64(0), np.int64(0), np.int64(0), 1, 2, np.int64(2), np.int64(2), np.int64(2), np.int64(0), np.int64(0), np.int64(0), 3, np.int64(0), 3, np.int64(0), np.int64(0), np.int64(0), np.int64(0), np.int64(0), np.int64(0), np.int64(0), np.int64(0), np.int64(0), np.int64(0), np.int64(0), 2, np.int64(0), np.int64(0), 3, 2, np.int64(2), np.int64(2), 1, np.int64(2), 3, np.int64(2), np.int64(2), np.int64(0), np.int64(0), np.int64(0), np.int64(0), np.int64(0), np.int64(0), np.int64(0), np.int64(2), np.int64(2), np.int64(2), np.int64(2), np.int64(2), np.int64(2), np.int64(2), np.int64(2), np.int64(2), np.int64(2), np.int64(2), np.int64(2), np.int64(2), np.int64(2), 2, np.int64(2), 1, 2, np.int64(2), np.int64(2), np.int64(2), np.int64(2), np.int64(2), np.int64(2), np.int64(2), np.int64(0), np.int64(2), np.int64(0), np.int64(2), np.int64(2), np.int64(2), np.int64(0), np.int64(2), np.int64(2), np.int64(2), np.int64(2), np.int64(2), np.int64(2), np.int64(2), np.int64(2), 3, 2, np.int64(2), np.int64(2), 3, np.int64(2), np.int64(2), np.int64(2), 2, np.int64(2), 1, np.int64(2), np.int64(2), np.int64(2), np.int64(2), np.int64(2), np.int64(2), 3, np.int64(2), np.int64(2), np.int64(2), np.int64(2), np.int64(2), np.int64(2), np.int64(2), np.int64(2), 2, np.int64(2), np.int64(2), np.int64(2), np.int64(2), 0, np.int64(2), 3, np.int64(2), np.int64(2), np.int64(2), 2, np.int64(2), np.int64(2), np.int64(2), np.int64(2), np.int64(2), 2, 1, 3, 1, np.int64(2), np.int64(2), np.int64(2), np.int64(2), np.int64(2), np.int64(2), np.int64(2), np.int64(2), np.int64(2), 3, np.int64(2), np.int64(2), np.int64(2), np.int64(2), np.int64(2), np.int64(2), np.int64(2), 1, np.int64(2), 2, 0, 1, 1, np.int64(2), np.int64(2), 3, np.int64(2), 1, np.int64(2), np.int64(2), np.int64(2), np.int64(2), np.int64(2), np.int64(2), 2, np.int64(2), np.int64(2), np.int64(2), np.int64(2), np.int64(2), np.int64(2), 1, np.int64(2), np.int64(2), np.int64(2), np.int64(2), np.int64(2), np.int64(2), np.int64(2), np.int64(2), np.int64(0), np.int64(2), np.int64(2), np.int64(2), np.int64(2), np.int64(2), 1, np.int64(2), np.int64(2), np.int64(2), np.int64(2), np.int64(2), 1, 1, np.int64(2), np.int64(2), np.int64(2), np.int64(2), 1, np.int64(2), np.int64(2), np.int64(2), np.int64(2), np.int64(2), np.int64(2), np.int64(2), 1, np.int64(2), np.int64(2), np.int64(2), np.int64(2), 2, np.int64(2), np.int64(2), 3, np.int64(2), 3, np.int64(2), np.int64(2), 2, np.int64(2), np.int64(2), np.int64(2), np.int64(2), 3, np.int64(2), 1, np.int64(2), 3, np.int64(2), np.int64(2), np.int64(2), 1, np.int64(2), np.int64(2), 3, np.int64(2), np.int64(2), np.int64(2), np.int64(2), np.int64(2), np.int64(2), np.int64(2), 3, np.int64(2), 1, 0, np.int64(2), np.int64(2), np.int64(2), np.int64(2), np.int64(2), np.int64(2), np.int64(2), 1, np.int64(2), np.int64(2), 1, np.int64(2), np.int64(2), np.int64(2), np.int64(2), np.int64(2), np.int64(2), np.int64(2), 2, np.int64(2), np.int64(2), 0, np.int64(2), np.int64(0), np.int64(0), np.int64(0), np.int64(0), np.int64(0), np.int64(0), np.int64(0), np.int64(0), np.int64(0), np.int64(2), np.int64(2), np.int64(2), np.int64(2), np.int64(2), np.int64(2), np.int64(2), np.int64(2), 1, np.int64(2), np.int64(2), 3, 3, np.int64(2), np.int64(2), np.int64(2), 0, np.int64(2), 2, np.int64(2), np.int64(2), np.int64(2), np.int64(2), np.int64(2), np.int64(2), np.int64(2), np.int64(2), np.int64(2), np.int64(2), np.int64(2), np.int64(2), np.int64(2), np.int64(2), np.int64(2), np.int64(2), 0, np.int64(2), np.int64(2), 3, np.int64(2), np.int64(2), np.int64(2), np.int64(2), 1, np.int64(2), np.int64(2), np.int64(2), np.int64(2), 3, np.int64(2), np.int64(2), np.int64(2), np.int64(2), np.int64(2), np.int64(2), np.int64(2), np.int64(2), 0, np.int64(2), np.int64(2), np.int64(2), np.int64(2), 2, np.int64(2), np.int64(2), np.int64(2), 3, np.int64(2), 3, 0, np.int64(2), np.int64(2), np.int64(2), 3, 2, np.int64(2), 2, np.int64(2), np.int64(2), np.int64(2), 0, np.int64(2), np.int64(2), 2, np.int64(2), np.int64(2), np.int64(2), np.int64(2), np.int64(2), np.int64(2), np.int64(2), np.int64(2), 1, np.int64(1), np.int64(2), 2, np.int64(2), np.int64(2), np.int64(2), np.int64(2), 1, np.int64(2), np.int64(2), np.int64(2), np.int64(2), np.int64(2), np.int64(2), 3, np.int64(2), np.int64(2), np.int64(2), np.int64(2), np.int64(2), 1, np.int64(2), np.int64(2), np.int64(2), np.int64(2), np.int64(2), np.int64(2), 3, 0, np.int64(2), 3, np.int64(2), np.int64(2), np.int64(2), np.int64(2), 3, np.int64(1), np.int64(1), np.int64(1), np.int64(1), np.int64(1), 1, np.int64(1), np.int64(1), np.int64(1), np.int64(1), np.int64(1), np.int64(1), np.int64(1), np.int64(1), np.int64(1), np.int64(1), np.int64(1), np.int64(1), np.int64(1), np.int64(1), 1, np.int64(1), 3, np.int64(1), np.int64(1), np.int64(1), np.int64(1), np.int64(1), np.int64(1), np.int64(1), np.int64(1), np.int64(1), np.int64(1), np.int64(1), 0, 1, np.int64(1), np.int64(1), np.int64(1), np.int64(1), np.int64(1), np.int64(1), np.int64(1), np.int64(1), np.int64(1), 3, np.int64(1), np.int64(1), np.int64(1), np.int64(1), 0, 0, np.int64(1), np.int64(1), 1, np.int64(1), np.int64(1), np.int64(1), np.int64(1), np.int64(1), np.int64(1), np.int64(1), np.int64(1), np.int64(1), np.int64(1), np.int64(1), np.int64(1), np.int64(1), 0, np.int64(1), np.int64(1), np.int64(1), np.int64(1), np.int64(1), 3, np.int64(1), np.int64(1), np.int64(1), np.int64(1), np.int64(1), np.int64(1), 3, np.int64(1), np.int64(1), np.int64(1), 0, 0, np.int64(1), np.int64(1), np.int64(1), np.int64(1), np.int64(1), 3, np.int64(1), np.int64(1), np.int64(1), np.int64(1), np.int64(1), np.int64(1), np.int64(1), np.int64(1), np.int64(1), 2, 3, np.int64(1), np.int64(1), np.int64(1), 1, np.int64(1), np.int64(1), np.int64(1), np.int64(1), np.int64(1), np.int64(1), np.int64(1), 0, np.int64(1), 1, np.int64(1), 3, 2, np.int64(1), np.int64(1), np.int64(1), 3, np.int64(1), np.int64(1), np.int64(1), np.int64(1), np.int64(1), np.int64(1), np.int64(1), np.int64(1), 3, np.int64(1), 2, np.int64(1), np.int64(1), np.int64(1), 2, np.int64(1), np.int64(1), np.int64(1), 0, 3, np.int64(1), np.int64(1), np.int64(1), 3, np.int64(1), np.int64(1), np.int64(1), 3, np.int64(1), np.int64(1), np.int64(1), np.int64(1), np.int64(1), np.int64(1), np.int64(1), np.int64(1), np.int64(1), np.int64(1), np.int64(1), np.int64(1), np.int64(1), 2, 1, np.int64(1), 0, np.int64(1), np.int64(1), 1, np.int64(1), 0, 3, np.int64(1), 3, np.int64(1), np.int64(1), 2, np.int64(1), np.int64(1), np.int64(1), 2, np.int64(1), np.int64(1), np.int64(1), np.int64(1), np.int64(1), np.int64(1), 0, np.int64(1), np.int64(1), np.int64(1), np.int64(1), 0, np.int64(1), np.int64(1), 0, 0, np.int64(1), 2, np.int64(1), np.int64(1), 1, np.int64(1), 3, np.int64(1), np.int64(1), np.int64(1), 1, 2, 3, np.int64(1), np.int64(1), np.int64(1), np.int64(1), np.int64(1), np.int64(1), np.int64(1), np.int64(1), np.int64(1), np.int64(1), np.int64(1), np.int64(1), 1, np.int64(1), 2, np.int64(1), 2, np.int64(1), np.int64(1), 1, np.int64(1), np.int64(1), 0, np.int64(1), np.int64(1), 2, 0, np.int64(1), 0, 3, 3, np.int64(1), np.int64(1), np.int64(1), np.int64(1), np.int64(1), 1, np.int64(1), np.int64(1), np.int64(1), np.int64(1), np.int64(1), np.int64(1), np.int64(1), np.int64(1), np.int64(1), np.int64(1), np.int64(1), np.int64(1), 3, np.int64(1), 0, np.int64(1), np.int64(1), 0, np.int64(1), np.int64(1), np.int64(1), np.int64(1), 0, np.int64(1), 1, np.int64(1), np.int64(1), np.int64(1), np.int64(1), 2, 1, 1, np.int64(1), 1, 1, np.int64(1), np.int64(1), np.int64(1), np.int64(1), 0, np.int64(1), np.int64(1), np.int64(1), np.int64(1), np.int64(1), 2, np.int64(1), np.int64(1), np.int64(1), np.int64(1), np.int64(1), np.int64(1), np.int64(1), np.int64(1), 1, np.int64(1), np.int64(1), np.int64(1), np.int64(1), np.int64(1), 2, np.int64(1), np.int64(1), 0, np.int64(1), np.int64(1), np.int64(1), np.int64(1), np.int64(1), 2, np.int64(1), np.int64(1), np.int64(1), np.int64(1), 3, np.int64(1), np.int64(1), np.int64(1), np.int64(1), 0, np.int64(1), np.int64(1), np.int64(1), np.int64(1), np.int64(1), np.int64(1), np.int64(1), np.int64(1), np.int64(1), np.int64(1), np.int64(1), 0, np.int64(1), np.int64(1), np.int64(1), np.int64(1), np.int64(1), np.int64(1), np.int64(1), np.int64(1), 2, np.int64(1), np.int64(1), np.int64(1), 2, np.int64(1), 0, np.int64(1), np.int64(1), np.int64(1), np.int64(1), np.int64(1), np.int64(1), np.int64(1), np.int64(1), 2, np.int64(1), np.int64(1), np.int64(1), np.int64(1), np.int64(1), np.int64(1), 1, np.int64(1), np.int64(1), np.int64(1), 3, np.int64(1), np.int64(1), np.int64(1), np.int64(1), 0, np.int64(1), 3, np.int64(1), np.int64(1), np.int64(1), 0, np.int64(1), 1, np.int64(1), np.int64(1), np.int64(1), np.int64(1), np.int64(1), np.int64(1), np.int64(1), np.int64(1), 3, np.int64(1), np.int64(1), np.int64(1), np.int64(1), np.int64(1), np.int64(1), np.int64(1), 1, np.int64(1), 0, np.int64(1), 1, np.int64(1), np.int64(1), np.int64(1), np.int64(1), np.int64(1), np.int64(1), 3, 2, np.int64(1), np.int64(1), 0, np.int64(1), np.int64(1), np.int64(1), np.int64(1), np.int64(1), np.int64(1), np.int64(1), np.int64(1), np.int64(1), np.int64(1), np.int64(1), np.int64(1), np.int64(1), np.int64(1), np.int64(1), np.int64(1), 2, np.int64(1), np.int64(1), np.int64(1), np.int64(1), 2, 2, np.int64(1), np.int64(1), np.int64(1), 0, np.int64(1), 3, np.int64(1), 0, np.int64(1), np.int64(1), np.int64(1), 2, np.int64(1), 1, 1, np.int64(1), np.int64(1), np.int64(1), np.int64(1), np.int64(1), np.int64(1), np.int64(1), np.int64(1), np.int64(1), np.int64(1), np.int64(1), np.int64(1), np.int64(1), np.int64(1), 2, np.int64(1), np.int64(1), 2, 3, np.int64(1), np.int64(1), np.int64(1), np.int64(1), 3, np.int64(1), np.int64(1), np.int64(1), np.int64(1), np.int64(1), np.int64(1), np.int64(1), np.int64(1), np.int64(1), np.int64(1), np.int64(1), np.int64(1), np.int64(1), np.int64(1), np.int64(1), np.int64(1), np.int64(1), np.int64(1), np.int64(1), np.int64(1), np.int64(1), np.int64(1), np.int64(1), 3, np.int64(1), np.int64(1), np.int64(1), np.int64(1), np.int64(1), np.int64(1), np.int64(1), np.int64(1), np.int64(1), np.int64(1), np.int64(1), 0, np.int64(1), np.int64(1), np.int64(1), np.int64(1), np.int64(1), 2, 3, np.int64(1), np.int64(1), np.int64(1), np.int64(1), np.int64(1), np.int64(1), np.int64(1), np.int64(1), np.int64(1), np.int64(1), 1, np.int64(1), 0, np.int64(1), np.int64(1), 2, 2, 3, np.int64(1), np.int64(1), np.int64(1), np.int64(1), np.int64(1), np.int64(1), np.int64(1), np.int64(1), np.int64(1), np.int64(1), np.int64(1), np.int64(1), np.int64(1), np.int64(1), np.int64(1), 0, 0, np.int64(1), 1, np.int64(1), np.int64(1), np.int64(1), np.int64(1), 0, np.int64(1), np.int64(1), np.int64(1)]\n",
            "Average Reward per Arm: [0.103 0.506 0.333 0.058]\n"
          ]
        }
      ]
    },
    {
      "cell_type": "markdown",
      "source": [
        "# Using UCB (1M)\n",
        "Implement the UCB algorithm for treatment selection and print each 100th iteration. (Mandatory)"
      ],
      "metadata": {
        "id": "yRo-Wi17RiN2"
      }
    },
    {
      "cell_type": "code",
      "source": [
        "#  run the environment with an agent that is guided by a UCB\n",
        "#-----write your code below this line---------\n",
        "def ucb() :\n",
        "  # Number of arms (treatments)\n",
        "  n_arms = df['trt'].nunique()\n",
        "\n",
        "  # Simulation parameters\n",
        "  n_trials = 1000\n",
        "  cumulative_rewards = 0\n",
        "  arm_counts = np.zeros(n_arms)\n",
        "  arm_values = [0.0] * n_arms\n",
        "\n",
        "  for trial in range(n_trials):\n",
        "    # Randomly select an arm\n",
        "    selected_arm = select_ucb_arm(n_arms, arm_counts, arm_values)\n",
        "\n",
        "    # Randomly sample a patient who received this treatment\n",
        "    patient = df[df['trt'] == selected_arm].sample(1)\n",
        "    reward = patient['reward'].values[0]\n",
        "\n",
        "    arm_counts[selected_arm] += 1\n",
        "    n = arm_counts[selected_arm]\n",
        "    arm_values[selected_arm] = ((n - 1) * arm_values[selected_arm] + reward) / n\n",
        "    cumulative_rewards += reward\n",
        "\n",
        "    if(trial % 100 == 0):\n",
        "      # Results\n",
        "      print(f\"Iteration {trial}: Selected Arm {selected_arm}, Reward {cumulative_rewards}\")\n",
        "\n",
        "  return cumulative_rewards, arm_counts, arm_values\n",
        "\n",
        "def select_ucb_arm(n_arms, arm_counts, arm_values):\n",
        "  # Check for unselected arms first\n",
        "  for arm in range(n_arms):\n",
        "      if arm_counts[arm] == 0:\n",
        "          return arm\n",
        "\n",
        "  # Calculate UCB values for all arms\n",
        "  total_counts = sum(arm_counts)\n",
        "  ucb_values = []\n",
        "  for arm in range(n_arms):\n",
        "      average_reward = arm_values[arm]\n",
        "      confidence_bound = math.sqrt((2 * math.log(total_counts)) / arm_counts[arm])\n",
        "      ucb_values.append(average_reward + confidence_bound)\n",
        "\n",
        "  return ucb_values.index(max(ucb_values))\n",
        "\n",
        "\n",
        "cumulative_rewards, arm_counts, arm_values = ucb()\n",
        "print(\"Total Reward:\", cumulative_rewards)\n",
        "print(\"Arm Selection Counts:\", arm_counts)\n",
        "print(\"Average Reward per Arm:\", arm_values)\n"
      ],
      "metadata": {
        "id": "Z8nXetCeRiN8",
        "colab": {
          "base_uri": "https://localhost:8080/"
        },
        "outputId": "15f82a9f-b8ff-4a31-97a6-096c6631da18"
      },
      "execution_count": 100,
      "outputs": [
        {
          "output_type": "stream",
          "name": "stdout",
          "text": [
            "Iteration 0: Selected Arm 0, Reward 0\n",
            "Iteration 100: Selected Arm 2, Reward 57\n",
            "Iteration 200: Selected Arm 2, Reward 100\n",
            "Iteration 300: Selected Arm 2, Reward 146\n",
            "Iteration 400: Selected Arm 3, Reward 200\n",
            "Iteration 500: Selected Arm 3, Reward 246\n",
            "Iteration 600: Selected Arm 1, Reward 298\n",
            "Iteration 700: Selected Arm 0, Reward 344\n",
            "Iteration 800: Selected Arm 1, Reward 395\n",
            "Iteration 900: Selected Arm 2, Reward 448\n",
            "Total Reward: 491\n",
            "Arm Selection Counts: [ 90. 421. 264. 225.]\n",
            "Average Reward per Arm: [np.float64(0.32222222222222224), np.float64(0.5391923990498813), np.float64(0.4886363636363634), np.float64(0.4711111111111111)]\n"
          ]
        }
      ]
    },
    {
      "cell_type": "markdown",
      "source": [
        "# Plot the cumulative rewards for all policies on a single graph to compare their performance. (0.5M)"
      ],
      "metadata": {
        "id": "y9QjCw5aIrBn"
      }
    },
    {
      "cell_type": "code",
      "source": [
        "#-----write your code below this line---------"
      ],
      "metadata": {
        "id": "J_5XxqPZI2uW"
      },
      "execution_count": 101,
      "outputs": []
    },
    {
      "cell_type": "markdown",
      "source": [
        "# Conclusion (0.5M)\n",
        "\n",
        "write a conclusion (approximately 250 words) summarizing which treatment policy was most effective. Discuss the balance between exploration and exploitation in your simulations.\n",
        "\n",
        "`----write below this line------`"
      ],
      "metadata": {
        "id": "xOQk0LcUImEW"
      }
    },
    {
      "cell_type": "code",
      "source": [],
      "metadata": {
        "id": "jcdGV9-cIqli"
      },
      "execution_count": 101,
      "outputs": []
    }
  ]
}