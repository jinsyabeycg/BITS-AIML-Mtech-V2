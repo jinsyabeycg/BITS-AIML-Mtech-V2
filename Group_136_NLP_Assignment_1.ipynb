{
  "nbformat": 4,
  "nbformat_minor": 0,
  "metadata": {
    "colab": {
      "provenance": [],
      "toc_visible": true,
      "authorship_tag": "ABX9TyMh0ykYj7ApD/DMujxkwFTb",
      "include_colab_link": true
    },
    "kernelspec": {
      "name": "python3",
      "display_name": "Python 3"
    },
    "language_info": {
      "name": "python"
    }
  },
  "cells": [
    {
      "cell_type": "markdown",
      "metadata": {
        "id": "view-in-github",
        "colab_type": "text"
      },
      "source": [
        "<a href=\"https://colab.research.google.com/github/jinsyabeycg/BITS-AIML-Mtech-V2/blob/master/Group_136_NLP_Assignment_1.ipynb\" target=\"_parent\"><img src=\"https://colab.research.google.com/assets/colab-badge.svg\" alt=\"Open In Colab\"/></a>"
      ]
    },
    {
      "cell_type": "markdown",
      "source": [
        "### Group ID:\n",
        "### Group Members Name with Student ID:\n",
        "1. Nimishkumar Patel\n",
        "2. Jinsy Abey\n",
        "3. Sunil Pandey\n",
        "4. Sufiya\n",
        "5. Ashwani\n"
      ],
      "metadata": {
        "id": "nWaKW6tL_rNR"
      }
    },
    {
      "cell_type": "code",
      "execution_count": null,
      "metadata": {
        "id": "tRACMwZd_m3r"
      },
      "outputs": [],
      "source": []
    }
  ]
}